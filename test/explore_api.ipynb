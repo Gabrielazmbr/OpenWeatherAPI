{
 "cells": [
  {
   "cell_type": "code",
   "execution_count": 19,
   "metadata": {},
   "outputs": [],
   "source": [
    "import pandas as pd"
   ]
  },
  {
   "cell_type": "code",
   "execution_count": 1,
   "metadata": {},
   "outputs": [],
   "source": [
    "import os\n",
    "\n",
    "from dotenv import load_dotenv\n",
    "load_dotenv()\n",
    "api_key = os.getenv('API_KEY')"
   ]
  },
  {
   "cell_type": "code",
   "execution_count": 2,
   "metadata": {},
   "outputs": [
    {
     "name": "stdout",
     "output_type": "stream",
     "text": [
      "[{'name': 'Bogota', 'local_names': {'sk': 'Bogota', 'ay': 'Wukuta', 'zh': '波哥大', 'km': 'ទីក្រុងបូកូតា', 'my': 'ဘိုဂိုတာမြို့', 'es': 'Bogotá', 'ug': 'Bogota', 'so': 'Bogota', 'kn': 'ಬೊಗೋಟ', 'la': 'Bogota', 'bn': 'বোগোতা', 'lv': 'Bogota', 'ml': 'ബൊഗോട്ട', 'pl': 'Bogota', 'mr': 'बोगोता', 'sw': 'Bogota', 'en': 'Bogota', 'sr': 'Богота', 'ur': 'بوگوتا', 'sl': 'Bogota', 'hi': 'बोगोटा', 'sv': 'Bogotá', 'fa': 'بوگوتا', 'nl': 'Bogota', 'mk': 'Богота', 'ku': 'Bogota', 'am': 'ቦጎታ', 'be': 'Багата', 'hy': 'Բոգոտա', 'ja': 'ボゴタ', 'ko': '보고타', 'el': 'Μπογκοτά', 'az': 'Boqota', 'bo': 'པོ་གོ་ཏ', 'th': 'โบโกตา', 'he': 'בוגוטה', 'ka': 'ბოგოტა', 'rw': 'Bogota', 'yi': 'באגאטא', 'oc': 'Bogotà', 'ln': 'Bogota', 'ar': 'بوغوتا', 'io': 'Bogota', 'lt': 'Bogota', 'ba': 'Богота', 'bg': 'Богота', 'ca': 'Bogotà', 'sh': 'Bogota', 'de': 'Bogotá', 'ru': 'Богота', 'ta': 'பொகோட்டா', 'is': 'Bógóta', 'fr': 'Bogota', 'tk': 'Bogota', 'tl': 'Bogota', 'kk': 'Богота', 'os': 'Богота', 'hu': 'Bogotá', 'uz': 'Bogota', 'ht': 'Bogota', 'eo': 'Bogoto', 'uk': 'Богота'}, 'lat': 4.6534649, 'lon': -74.0836453, 'country': 'CO'}, {'name': 'Bogota', 'local_names': {'os': 'Богота', 'he': 'בוגוטה', 'ml': 'ബൊഗോട്ട', 'bn': 'বোগোতা', 'la': 'Bogota', 'az': 'Boqota', 'pl': 'Bogota', 'lt': 'Bogota', 'sr': 'Богота', 'ay': 'Wukuta', 'zh': '波哥大', 'en': 'Bogota, Capital District', 'sw': 'Bogota', 'th': 'โบโกตา', 'ht': 'Bogota', 'ru': 'Богота', 'ar': 'بوغوتا', 'de': 'Bogotá', 'hi': 'बोगोटा', 'mk': 'Богота', 'ka': 'ბოგოტა', 'ur': 'بوگوتا', 'ca': 'Bogotà', 'nl': 'Bogota', 'sl': 'Bogota', 'kn': 'ಬೊಗೋಟ', 'my': 'ဘိုဂိုတာမြို့', 'sh': 'Bogota', 'am': 'ቦጎታ', 'uz': 'Bogota', 'el': 'Μπογκοτά', 'es': 'Bogotá, Distrito Capital', 'is': 'Bógóta', 'ja': 'ボゴタ', 'bg': 'Богота', 'ku': 'Bogota', 'yi': 'באגאטא', 'km': 'ទីក្រុងបូកូតា', 'ln': 'Bogota', 'ta': 'பொகோட்டா', 'kk': 'Богота', 'fr': 'Bogota', 'be': 'Багата', 'so': 'Bogota', 'ug': 'Bogota', 'sv': 'Bogotá', 'io': 'Bogota', 'ba': 'Богота', 'fa': 'بوگوتا', 'tk': 'Bogota', 'rw': 'Bogota', 'eo': 'Bogoto', 'lv': 'Bogota', 'ko': '보고타', 'bo': 'པོ་གོ་ཏ', 'tl': 'Bogota', 'hy': 'Բոգոտա', 'hu': 'Bogotá', 'mr': 'बोगोता', 'oc': 'Bogotà', 'uk': 'Богота', 'sk': 'Bogota'}, 'lat': 4.6534649, 'lon': -74.0836453, 'country': 'CO'}, {'name': 'Bogota Capital District - Municipality', 'local_names': {'ku': 'Bogota', 'th': 'โบโกตา', 'be': 'Багата', 'ba': 'Богота', 'sh': 'Bogota', 'ln': 'Bogota', 'rw': 'Bogota', 'tl': 'Bogota', 'tk': 'Bogota', 'uz': 'Bogota', 'kk': 'Богота', 'hi': 'बोगोटा', 'is': 'Bógóta', 'sk': 'Bogota', 'fr': 'Bogota', 'lt': 'Bogota', 'fa': 'بوگوتا', 'os': 'Богота', 'ja': 'ボゴタ首都地域', 'lv': 'Bogota', 'ta': 'பொகோட்டா', 'km': 'ទីក្រុងបូកូតា', 'zh': '波哥大', 'sw': 'Bogota', 'sv': 'Bogotá', 'oc': 'Bogotà', 'ur': 'بوگوتا', 'my': 'ဘိုဂိုတာမြို့', 'bg': 'Богота', 'so': 'Bogota', 'ar': 'بوغوتا', 'hu': 'Bogotá', 'bo': 'པོ་གོ་ཏ', 'kn': 'ಬೊಗೋಟ', 'sl': 'Bogota', 'ay': 'Wukuta', 'io': 'Bogota', 'nl': 'Bogota', 'ru': 'Богота', 'az': 'Boqota', 'uk': 'Богота', 'ko': '보고타', 'ml': 'ബൊഗോട്ട', 'ht': 'Bogota', 'mr': 'बोगोता', 'ug': 'Bogota', 'ca': 'Bogotà', 'el': 'Μπογκοτά', 'mk': 'Богота', 'pl': 'Bogota', 'yi': 'באגאטא', 'sr': 'Богота', 'eo': 'Bogoto', 'la': 'Bogota', 'de': 'Bogotá', 'he': 'בוגוטה', 'bn': 'বোগোতা', 'ka': 'ბოგოტა', 'es': 'Bogotá Distrito Capital - Municipio', 'en': 'Bogota Capital District - Municipality', 'hy': 'Բոգոտա', 'am': 'ቦጎታ'}, 'lat': 4.6534649, 'lon': -74.0836453, 'country': 'CO'}, {'name': 'Bogota', 'lat': 40.8762106, 'lon': -74.0298621, 'country': 'US', 'state': 'New Jersey'}, {'name': 'Bogota', 'lat': 7.8776956, 'lon': -72.4866182, 'country': 'CO', 'state': 'Norte de Santander'}]\n"
     ]
    }
   ],
   "source": [
    "import requests\n",
    "\n",
    "\n",
    "# GeoCoding API\n",
    "# Define the API URL with the query parameters\n",
    "url = \"http://api.openweathermap.org/geo/1.0/direct\"\n",
    "params = {\n",
    "    'q': 'Bogota',  # City name\n",
    "    'limit': 10,     # Limit to 5 results\n",
    "    'appid': api_key  # Your API key\n",
    "}\n",
    "\n",
    "# Send the GET request\n",
    "response = requests.get(url, params=params)\n",
    "\n",
    "# Check if the request was successful (status code 200)\n",
    "if response.status_code == 200:\n",
    "    # Parse the response as JSON\n",
    "    data = response.json()\n",
    "    print(data)  # Print the data to see the results\n",
    "else:\n",
    "    print(f\"Error: {response.status_code}\")\n"
   ]
  },
  {
   "cell_type": "code",
   "execution_count": 3,
   "metadata": {},
   "outputs": [
    {
     "data": {
      "text/plain": [
       "[dict_keys(['name', 'local_names', 'lat', 'lon', 'country']),\n",
       " dict_keys(['name', 'local_names', 'lat', 'lon', 'country']),\n",
       " dict_keys(['name', 'local_names', 'lat', 'lon', 'country']),\n",
       " dict_keys(['name', 'lat', 'lon', 'country', 'state']),\n",
       " dict_keys(['name', 'lat', 'lon', 'country', 'state'])]"
      ]
     },
     "execution_count": 3,
     "metadata": {},
     "output_type": "execute_result"
    }
   ],
   "source": [
    "[i.keys() for i in data]"
   ]
  },
  {
   "cell_type": "code",
   "execution_count": 4,
   "metadata": {},
   "outputs": [
    {
     "data": {
      "text/plain": [
       "[['Bogota', 'CO'],\n",
       " ['Bogota', 'CO'],\n",
       " ['Bogota Capital District - Municipality', 'CO'],\n",
       " ['Bogota', 'US'],\n",
       " ['Bogota', 'CO']]"
      ]
     },
     "execution_count": 4,
     "metadata": {},
     "output_type": "execute_result"
    }
   ],
   "source": [
    "[[i['name'],i['country']] for i in data]"
   ]
  },
  {
   "cell_type": "code",
   "execution_count": 5,
   "metadata": {},
   "outputs": [
    {
     "data": {
      "text/plain": [
       "5"
      ]
     },
     "execution_count": 5,
     "metadata": {},
     "output_type": "execute_result"
    }
   ],
   "source": [
    "len(data)"
   ]
  },
  {
   "cell_type": "code",
   "execution_count": 6,
   "metadata": {},
   "outputs": [
    {
     "data": {
      "text/plain": [
       "('Bogota', 'Bogotá', 'CO')"
      ]
     },
     "execution_count": 6,
     "metadata": {},
     "output_type": "execute_result"
    }
   ],
   "source": [
    "# local_names.[language code]\n",
    "data[0]['name'], data[0]['local_names']['es'], data[0]['country']"
   ]
  },
  {
   "cell_type": "code",
   "execution_count": 7,
   "metadata": {},
   "outputs": [
    {
     "data": {
      "text/plain": [
       "('Bogotá, Distrito Capital', 'CO')"
      ]
     },
     "execution_count": 7,
     "metadata": {},
     "output_type": "execute_result"
    }
   ],
   "source": [
    "# local_names.ascii\n",
    "data[1]['local_names']['es'], data[1]['country']"
   ]
  },
  {
   "cell_type": "code",
   "execution_count": 8,
   "metadata": {},
   "outputs": [
    {
     "data": {
      "text/plain": [
       "('Bogotá Distrito Capital - Municipio', 'CO')"
      ]
     },
     "execution_count": 8,
     "metadata": {},
     "output_type": "execute_result"
    }
   ],
   "source": [
    "# local_names.feature_name\n",
    "data[2]['local_names']['es'], data[2]['country']"
   ]
  },
  {
   "cell_type": "code",
   "execution_count": 9,
   "metadata": {},
   "outputs": [
    {
     "data": {
      "text/plain": [
       "'US'"
      ]
     },
     "execution_count": 9,
     "metadata": {},
     "output_type": "execute_result"
    }
   ],
   "source": [
    "data[3]['country']"
   ]
  },
  {
   "cell_type": "code",
   "execution_count": 10,
   "metadata": {},
   "outputs": [
    {
     "data": {
      "text/plain": [
       "{'name': 'Bogota',\n",
       " 'lat': 7.8776956,\n",
       " 'lon': -72.4866182,\n",
       " 'country': 'CO',\n",
       " 'state': 'Norte de Santander'}"
      ]
     },
     "execution_count": 10,
     "metadata": {},
     "output_type": "execute_result"
    }
   ],
   "source": [
    "data[4]"
   ]
  },
  {
   "cell_type": "code",
   "execution_count": 11,
   "metadata": {},
   "outputs": [],
   "source": [
    "latitude = data[4]['lat']\n",
    "longitude = data[4]['lon']"
   ]
  },
  {
   "cell_type": "code",
   "execution_count": 12,
   "metadata": {},
   "outputs": [
    {
     "data": {
      "text/plain": [
       "(7.8776956, -72.4866182)"
      ]
     },
     "execution_count": 12,
     "metadata": {},
     "output_type": "execute_result"
    }
   ],
   "source": [
    "latitude, longitude"
   ]
  },
  {
   "cell_type": "code",
   "execution_count": 13,
   "metadata": {},
   "outputs": [
    {
     "name": "stdout",
     "output_type": "stream",
     "text": [
      "{'coord': {'lon': 10.99, 'lat': 44.34}, 'weather': [{'id': 802, 'main': 'Clouds', 'description': 'scattered clouds', 'icon': '03d'}], 'base': 'stations', 'main': {'temp': 286.57, 'feels_like': 285.82, 'temp_min': 284.41, 'temp_max': 287.64, 'pressure': 1006, 'humidity': 71, 'sea_level': 1006, 'grnd_level': 939}, 'visibility': 10000, 'wind': {'speed': 2.62, 'deg': 236, 'gust': 6.58}, 'clouds': {'all': 26}, 'dt': 1741608168, 'sys': {'type': 2, 'id': 2004688, 'country': 'IT', 'sunrise': 1741585057, 'sunset': 1741626914}, 'timezone': 3600, 'id': 3163858, 'name': 'Zocca', 'cod': 200}\n"
     ]
    }
   ],
   "source": [
    "import requests\n",
    "\n",
    "\n",
    "# GeoCoding API\n",
    "# Define the API URL with the query parameters\n",
    "url = \"https://api.openweathermap.org/data/2.5/weather\"\n",
    "params = {\n",
    "    'lat': 44.34,  # City name\n",
    "    'lon': 10.99,     # Limit to 5 results\n",
    "    'appid': api_key  # Your API key\n",
    "}\n",
    "\n",
    "# Send the GET request\n",
    "response = requests.get(url, params=params)\n",
    "\n",
    "# Check if the request was successful (status code 200)\n",
    "if response.status_code == 200:\n",
    "    # Parse the response as JSON\n",
    "    data = response.json()\n",
    "    print(data)  # Print the data to see the results\n",
    "else:\n",
    "    print(f\"Error: {response.status_code}\")\n"
   ]
  },
  {
   "cell_type": "code",
   "execution_count": 14,
   "metadata": {},
   "outputs": [
    {
     "data": {
      "text/plain": [
       "dict_keys(['coord', 'weather', 'base', 'main', 'visibility', 'wind', 'clouds', 'dt', 'sys', 'timezone', 'id', 'name', 'cod'])"
      ]
     },
     "execution_count": 14,
     "metadata": {},
     "output_type": "execute_result"
    }
   ],
   "source": [
    "data.keys()"
   ]
  },
  {
   "cell_type": "code",
   "execution_count": 15,
   "metadata": {},
   "outputs": [
    {
     "data": {
      "text/plain": [
       "[{'id': 802,\n",
       "  'main': 'Clouds',\n",
       "  'description': 'scattered clouds',\n",
       "  'icon': '03d'}]"
      ]
     },
     "execution_count": 15,
     "metadata": {},
     "output_type": "execute_result"
    }
   ],
   "source": [
    "data['weather']"
   ]
  },
  {
   "cell_type": "code",
   "execution_count": 16,
   "metadata": {},
   "outputs": [
    {
     "data": {
      "text/plain": [
       "1741608168"
      ]
     },
     "execution_count": 16,
     "metadata": {},
     "output_type": "execute_result"
    }
   ],
   "source": [
    "data['dt']"
   ]
  },
  {
   "cell_type": "code",
   "execution_count": 17,
   "metadata": {},
   "outputs": [
    {
     "name": "stdout",
     "output_type": "stream",
     "text": [
      "2025-03-10 12:02:48 2025-03-10 12:02:48\n",
      "<class 'datetime.datetime'> <class 'str'>\n"
     ]
    }
   ],
   "source": [
    "import datetime\n",
    "\n",
    "unix_timestamp = data['dt']\n",
    "date_time = datetime.datetime.utcfromtimestamp(unix_timestamp)\n",
    "formatted_date = date_time.strftime('%Y-%m-%d %H:%M:%S')\n",
    "print(date_time, formatted_date)\n",
    "print(type(date_time), type(formatted_date))"
   ]
  },
  {
   "cell_type": "code",
   "execution_count": 18,
   "metadata": {},
   "outputs": [
    {
     "data": {
      "text/plain": [
       "{'coord': {'lon': 10.99, 'lat': 44.34},\n",
       " 'weather': [{'id': 802,\n",
       "   'main': 'Clouds',\n",
       "   'description': 'scattered clouds',\n",
       "   'icon': '03d'}],\n",
       " 'base': 'stations',\n",
       " 'main': {'temp': 286.57,\n",
       "  'feels_like': 285.82,\n",
       "  'temp_min': 284.41,\n",
       "  'temp_max': 287.64,\n",
       "  'pressure': 1006,\n",
       "  'humidity': 71,\n",
       "  'sea_level': 1006,\n",
       "  'grnd_level': 939},\n",
       " 'visibility': 10000,\n",
       " 'wind': {'speed': 2.62, 'deg': 236, 'gust': 6.58},\n",
       " 'clouds': {'all': 26},\n",
       " 'dt': 1741608168,\n",
       " 'sys': {'type': 2,\n",
       "  'id': 2004688,\n",
       "  'country': 'IT',\n",
       "  'sunrise': 1741585057,\n",
       "  'sunset': 1741626914},\n",
       " 'timezone': 3600,\n",
       " 'id': 3163858,\n",
       " 'name': 'Zocca',\n",
       " 'cod': 200}"
      ]
     },
     "execution_count": 18,
     "metadata": {},
     "output_type": "execute_result"
    }
   ],
   "source": [
    "data"
   ]
  }
 ],
 "metadata": {
  "kernelspec": {
   "display_name": "venv",
   "language": "python",
   "name": "python3"
  },
  "language_info": {
   "codemirror_mode": {
    "name": "ipython",
    "version": 3
   },
   "file_extension": ".py",
   "mimetype": "text/x-python",
   "name": "python",
   "nbconvert_exporter": "python",
   "pygments_lexer": "ipython3",
   "version": "3.11.0"
  }
 },
 "nbformat": 4,
 "nbformat_minor": 2
}
